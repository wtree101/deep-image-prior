{
 "cells": [
  {
   "cell_type": "code",
   "execution_count": 3,
   "metadata": {},
   "outputs": [],
   "source": [
    "import numpy as np\n",
    "import matplotlib.pyplot as plt\n",
    "%matplotlib inline\n",
    "import scipy.signal as signal\n",
    "import math\n",
    "import matplotlib.image as mpimg\n",
    "from multiprocessing import Pool, cpu_count"
   ]
  },
  {
   "cell_type": "code",
   "execution_count": 11,
   "metadata": {},
   "outputs": [],
   "source": [
    "## Input \n",
    "#image g \n",
    "\n",
    "\n",
    "#Image = np.random.random((128,128)) #read(fname)\n",
    "g = np.random.random((512,512))\n",
    "#D = \n",
    "D = g.shape[0] #128\n",
    "N = D**2\n",
    "K = 100 # iter number\n",
    "Lambda = 0.1 # thresholding \n",
    "r = 16 # kernel size\n",
    "r_2 = r**2 \n",
    "num_filter = r_2\n",
    "\n",
    "## Frame: convolution kernel\n",
    "A = np.zeros((num_filter,r,r))  #2D r by r\n",
    "A_flat_mat = np.zeros((r_2,num_filter))\n",
    "G = np.zeros((N,r,r))  #?  r*r patches of g, from conv with a \n",
    "G_flat_mat = np.zeros((r_2,N))\n",
    "G_flat_mat_T= np.zeros((N,r_2))\n",
    "V_coded = np.zeros((num_filter,D,D))\n",
    "#V_coded_flat = np.zeros((N,num_filter))\n",
    "V_flat_mat = np.zeros((num_filter,N)) # V in paper\n",
    "Vc_flat_mat_T = np.zeros((num_filter,N))  #with T effect, V in paper\n",
    "#GTV = np.zeros((r_2,r_2)) #\n",
    "VGT = np.zeros((num_filter,r_2)) #  num_filter,r_2\n"
   ]
  },
  {
   "cell_type": "code",
   "execution_count": 14,
   "metadata": {},
   "outputs": [],
   "source": [
    "def W_synthesis_parallel(args):\n",
    "    i, A, V = args\n",
    "    return signal.convolve2d(V[i, :, :], A[i, :, :], 'same', 'wrap')\n",
    "\n",
    "def W_synthesis(A, V, g ,pool_num=8):\n",
    "    num_filter = A.shape[0]\n",
    "    D = g.shape[0]\n",
    "    g_denoise = np.zeros((D, D))\n",
    "    pool = Pool(pool_num)  # Create a process pool with the number of available CPUs\n",
    "    results = pool.map(W_synthesis_parallel, [(i, A, V) for i in range(num_filter)])  # Parallelize the loop\n",
    "    pool.close()\n",
    "    pool.join()\n",
    "    g_denoise = np.sum(results, axis=0)\n",
    "\n",
    "    return g_denoise"
   ]
  },
  {
   "cell_type": "code",
   "execution_count": 12,
   "metadata": {},
   "outputs": [],
   "source": [
    "def W_synthesis(A,V,g): #WTg\n",
    "    num_filter = A.shape[0]\n",
    "    D = g.shape[0]\n",
    "    g_denoise = np.zeros((D,D))\n",
    "    for i in range(num_filter):\n",
    "        g_denoise += signal.convolve2d(V[i,:,:],A[i,:,:],'same','wrap')\n",
    "    \n",
    "    return g_denoise\n"
   ]
  },
  {
   "cell_type": "code",
   "execution_count": 13,
   "metadata": {},
   "outputs": [
    {
     "name": "stdout",
     "output_type": "stream",
     "text": [
      "38.8 s ± 0 ns per loop (mean ± std. dev. of 1 run, 1 loop each)\n"
     ]
    }
   ],
   "source": [
    "%timeit -r 1 -n 1 W_synthesis(A, V_coded, g)"
   ]
  },
  {
   "cell_type": "code",
   "execution_count": 8,
   "metadata": {},
   "outputs": [
    {
     "name": "stdout",
     "output_type": "stream",
     "text": [
      "485 ms ± 0 ns per loop (mean ± std. dev. of 1 run, 1 loop each)\n"
     ]
    }
   ],
   "source": [
    "for poor_num in [4,8,16,32,44]:\n",
    "    %timeit -r 1 -n 1 W_synthesis(A, V_coded, g)"
   ]
  },
  {
   "cell_type": "code",
   "execution_count": 15,
   "metadata": {},
   "outputs": [
    {
     "data": {
      "text/plain": [
       "44"
      ]
     },
     "execution_count": 15,
     "metadata": {},
     "output_type": "execute_result"
    }
   ],
   "source": [
    "cpu_count()"
   ]
  }
 ],
 "metadata": {
  "kernelspec": {
   "display_name": "pytorch_cqf",
   "language": "python",
   "name": "pytorch"
  },
  "language_info": {
   "codemirror_mode": {
    "name": "ipython",
    "version": 3
   },
   "file_extension": ".py",
   "mimetype": "text/x-python",
   "name": "python",
   "nbconvert_exporter": "python",
   "pygments_lexer": "ipython3",
   "version": "3.11.0"
  }
 },
 "nbformat": 4,
 "nbformat_minor": 2
}
